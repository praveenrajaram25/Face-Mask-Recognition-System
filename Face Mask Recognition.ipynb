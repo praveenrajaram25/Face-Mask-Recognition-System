{
 "cells": [
  {
   "cell_type": "markdown",
   "metadata": {},
   "source": [
    "# Face Mask Recognition "
   ]
  },
  {
   "cell_type": "markdown",
   "metadata": {},
   "source": [
    "### 1.Import necessary packages"
   ]
  },
  {
   "cell_type": "code",
   "execution_count": 8,
   "metadata": {},
   "outputs": [],
   "source": [
    "from keras.optimizers import RMSprop\n",
    "from keras.preprocessing.image import ImageDataGenerator\n",
    "import cv2\n",
    "from keras.models import Sequential\n",
    "from keras.layers import Conv2D, Input, ZeroPadding2D, BatchNormalization, Activation, MaxPooling2D, Flatten, Dense,Dropout\n",
    "from keras.models import Model, load_model\n",
    "from keras.callbacks import TensorBoard, ModelCheckpoint\n",
    "from sklearn.model_selection import train_test_split\n",
    "from sklearn.metrics import f1_score\n",
    "from sklearn.utils import shuffle\n",
    "import imutils\n",
    "import numpy as np"
   ]
  },
  {
   "cell_type": "markdown",
   "metadata": {},
   "source": [
    "### 2.Building the Model"
   ]
  },
  {
   "cell_type": "code",
   "execution_count": 15,
   "metadata": {},
   "outputs": [],
   "source": [
    "model = Sequential([\n",
    "    Conv2D(100, (3,3), activation='relu', input_shape=(150, 150, 3)),\n",
    "    MaxPooling2D(2,2),\n",
    "    \n",
    "    Conv2D(100, (3,3), activation='relu'),\n",
    "    MaxPooling2D(2,2),\n",
    "    \n",
    "    Flatten(),\n",
    "    Dropout(0.5),\n",
    "    Dense(50, activation='relu'),\n",
    "    Dense(2, activation='softmax')\n",
    "])\n",
    "model.compile(optimizer='adam', loss='binary_crossentropy', metrics=['acc'])"
   ]
  },
  {
   "cell_type": "markdown",
   "metadata": {},
   "source": [
    "### 3.Inserting the Dataset"
   ]
  },
  {
   "cell_type": "code",
   "execution_count": 7,
   "metadata": {},
   "outputs": [
    {
     "name": "stdout",
     "output_type": "stream",
     "text": [
      "Found 1315 images belonging to 2 classes.\n",
      "Found 194 images belonging to 2 classes.\n"
     ]
    }
   ],
   "source": [
    "TRAINING_DIR = \"./Dataset/train\"\n",
    "train_datagen = ImageDataGenerator(rescale=1.0/255,\n",
    "                                   rotation_range=40,\n",
    "                                   width_shift_range=0.2,\n",
    "                                   height_shift_range=0.2,\n",
    "                                   shear_range=0.2,\n",
    "                                   zoom_range=0.2,\n",
    "                                   horizontal_flip=True,\n",
    "                                   fill_mode='nearest')\n",
    "\n",
    "train_generator = train_datagen.flow_from_directory(TRAINING_DIR, \n",
    "                                                    batch_size=10, \n",
    "                                                    target_size=(150, 150))\n",
    "VALIDATION_DIR = \"./Dataset/test\"\n",
    "validation_datagen = ImageDataGenerator(rescale=1.0/255)\n",
    "\n",
    "validation_generator = validation_datagen.flow_from_directory(VALIDATION_DIR, \n",
    "                                                         batch_size=10, \n",
    "                                                         target_size=(150, 150))"
   ]
  },
  {
   "cell_type": "markdown",
   "metadata": {},
   "source": [
    "### 4.Creating Checkpoint"
   ]
  },
  {
   "cell_type": "code",
   "execution_count": 5,
   "metadata": {},
   "outputs": [],
   "source": [
    "checkpoint = ModelCheckpoint('model2-{epoch:03d}.model',monitor='val_loss',verbose=0,save_best_only=True,mode='auto')"
   ]
  },
  {
   "cell_type": "markdown",
   "metadata": {},
   "source": [
    "### 5.Training the Model"
   ]
  },
  {
   "cell_type": "code",
   "execution_count": 22,
   "metadata": {},
   "outputs": [
    {
     "name": "stdout",
     "output_type": "stream",
     "text": [
      "Epoch 1/11\n",
      "132/132 [==============================] - ETA: 0s - loss: 0.5479 - acc: 0.7749INFO:tensorflow:Assets written to: model2-001.model\\assets\n",
      "132/132 [==============================] - 52s 393ms/step - loss: 0.5479 - acc: 0.7749 - val_loss: 0.3379 - val_acc: 0.8505\n",
      "Epoch 2/11\n",
      "132/132 [==============================] - ETA: 0s - loss: 0.3875 - acc: 0.8563INFO:tensorflow:Assets written to: model2-002.model\\assets\n",
      "132/132 [==============================] - 51s 384ms/step - loss: 0.3875 - acc: 0.8563 - val_loss: 0.2135 - val_acc: 0.9227\n",
      "Epoch 3/11\n",
      "132/132 [==============================] - ETA: 0s - loss: 0.2987 - acc: 0.8897INFO:tensorflow:Assets written to: model2-003.model\\assets\n",
      "132/132 [==============================] - 54s 412ms/step - loss: 0.2987 - acc: 0.8897 - val_loss: 0.1275 - val_acc: 0.9588\n",
      "Epoch 4/11\n",
      "132/132 [==============================] - ETA: 0s - loss: 0.2883 - acc: 0.9049INFO:tensorflow:Assets written to: model2-004.model\\assets\n",
      "132/132 [==============================] - 57s 433ms/step - loss: 0.2883 - acc: 0.9049 - val_loss: 0.0944 - val_acc: 0.9691\n",
      "Epoch 5/11\n",
      "132/132 [==============================] - 59s 444ms/step - loss: 0.2541 - acc: 0.8951 - val_loss: 0.1637 - val_acc: 0.9227\n",
      "Epoch 6/11\n",
      "132/132 [==============================] - 58s 441ms/step - loss: 0.2201 - acc: 0.9141 - val_loss: 0.1315 - val_acc: 0.9381\n",
      "Epoch 7/11\n",
      "132/132 [==============================] - 58s 438ms/step - loss: 0.1999 - acc: 0.9308 - val_loss: 0.1233 - val_acc: 0.9381\n",
      "Epoch 8/11\n",
      "132/132 [==============================] - ETA: 0s - loss: 0.1974 - acc: 0.9278INFO:tensorflow:Assets written to: model2-008.model\\assets\n",
      "132/132 [==============================] - 59s 450ms/step - loss: 0.1974 - acc: 0.9278 - val_loss: 0.0388 - val_acc: 0.9948\n",
      "Epoch 9/11\n",
      "132/132 [==============================] - ETA: 0s - loss: 0.1896 - acc: 0.9255INFO:tensorflow:Assets written to: model2-009.model\\assets\n",
      "132/132 [==============================] - 59s 449ms/step - loss: 0.1896 - acc: 0.9255 - val_loss: 0.0382 - val_acc: 0.9948\n",
      "Epoch 10/11\n",
      "132/132 [==============================] - 58s 436ms/step - loss: 0.2111 - acc: 0.9224 - val_loss: 0.0748 - val_acc: 0.9588\n",
      "Epoch 11/11\n",
      "132/132 [==============================] - 57s 435ms/step - loss: 0.1942 - acc: 0.9293 - val_loss: 0.0922 - val_acc: 0.9536\n"
     ]
    }
   ],
   "source": [
    "history = model.fit_generator(train_generator,\n",
    "                              epochs=11,\n",
    "                              validation_data=validation_generator,\n",
    "                              callbacks=[checkpoint])"
   ]
  },
  {
   "cell_type": "markdown",
   "metadata": {},
   "source": [
    "### 6.Testing the Model with OpenCV"
   ]
  },
  {
   "cell_type": "code",
   "execution_count": 14,
   "metadata": {},
   "outputs": [],
   "source": [
    "import cv2\n",
    "import numpy as np\n",
    "from keras.models import load_model\n",
    "model=load_model(r\"C:\\Users\\calm\\model2-009.model\")\n",
    "\n",
    "results={1:'without mask',0:'mask'}\n",
    "GR_dict={1:(0,0,255),0:(0,255,0)}\n",
    "\n",
    "rect_size = 4\n",
    "cap = cv2.VideoCapture(0) \n",
    "\n",
    "\n",
    "haarcascade = cv2.CascadeClassifier(r'C:\\Users\\calm\\anaconda3\\envs\\tensorflow\\Lib\\site-packages\\cv2\\data\\haarcascade_frontalface_default.xml')\n",
    "\n",
    "while True:\n",
    "    (rval, im) = cap.read()\n",
    "    im=cv2.flip(im,1,1) \n",
    "\n",
    "    \n",
    "    rerect_size = cv2.resize(im, (im.shape[1] // rect_size, im.shape[0] // rect_size))\n",
    "    faces = haarcascade.detectMultiScale(rerect_size)\n",
    "    for f in faces:\n",
    "        (x, y, w, h) = [v * rect_size for v in f] \n",
    "        \n",
    "        face_img = im[y:y+h, x:x+w]\n",
    "        rerect_sized=cv2.resize(face_img,(150,150))\n",
    "        normalized=rerect_sized/255.0\n",
    "        reshaped=np.reshape(normalized,(1,150,150,3))\n",
    "        reshaped = np.vstack([reshaped])\n",
    "        result=model.predict(reshaped)\n",
    "\n",
    "        \n",
    "        label=np.argmax(result,axis=1)[0]\n",
    "      \n",
    "        cv2.rectangle(im,(x,y),(x+w,y+h),GR_dict[label],2)\n",
    "        cv2.rectangle(im,(x,y-40),(x+w,y),GR_dict[label],-1)\n",
    "        cv2.putText(im, results[label], (x, y-10),cv2.FONT_HERSHEY_SIMPLEX,0.8,(255,255,255),2)\n",
    "\n",
    "    cv2.imshow('LIVE',   im)\n",
    "    key = cv2.waitKey(10)\n",
    "    \n",
    "    if key == ord('a'): \n",
    "        break\n",
    "\n",
    "cap.release()\n",
    "\n",
    "cv2.destroyAllWindows()"
   ]
  },
  {
   "cell_type": "code",
   "execution_count": null,
   "metadata": {},
   "outputs": [],
   "source": []
  }
 ],
 "metadata": {
  "kernelspec": {
   "display_name": "Python 3",
   "language": "python",
   "name": "python3"
  },
  "language_info": {
   "codemirror_mode": {
    "name": "ipython",
    "version": 3
   },
   "file_extension": ".py",
   "mimetype": "text/x-python",
   "name": "python",
   "nbconvert_exporter": "python",
   "pygments_lexer": "ipython3",
   "version": "3.8.5"
  }
 },
 "nbformat": 4,
 "nbformat_minor": 4
}
